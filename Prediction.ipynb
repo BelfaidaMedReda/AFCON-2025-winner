{
 "cells": [
  {
   "cell_type": "code",
   "execution_count": 29,
   "id": "3ae434dc-5341-49ff-a3da-90bd7893d297",
   "metadata": {},
   "outputs": [],
   "source": [
    "import pandas as pd"
   ]
  },
  {
   "cell_type": "code",
   "execution_count": 30,
   "id": "fdcdd629-a895-4598-b71a-1d1bfecc5634",
   "metadata": {},
   "outputs": [],
   "source": [
    "train = pd.read_csv(\"dataset/data.csv\")\n",
    "test = pd.read_csv(\"dataset/test.csv\")"
   ]
  },
  {
   "cell_type": "markdown",
   "id": "826ff875-ff81-43cf-8796-2922915d3e33",
   "metadata": {},
   "source": [
    "### Passage à la prediction"
   ]
  },
  {
   "cell_type": "code",
   "execution_count": 32,
   "id": "94eb31f0-d507-414b-8ee7-c55d54374a5f",
   "metadata": {},
   "outputs": [
    {
     "data": {
      "text/html": [
       "<div>\n",
       "<style scoped>\n",
       "    .dataframe tbody tr th:only-of-type {\n",
       "        vertical-align: middle;\n",
       "    }\n",
       "\n",
       "    .dataframe tbody tr th {\n",
       "        vertical-align: top;\n",
       "    }\n",
       "\n",
       "    .dataframe thead th {\n",
       "        text-align: right;\n",
       "    }\n",
       "</style>\n",
       "<table border=\"1\" class=\"dataframe\">\n",
       "  <thead>\n",
       "    <tr style=\"text-align: right;\">\n",
       "      <th></th>\n",
       "      <th>team</th>\n",
       "      <th>win proba</th>\n",
       "    </tr>\n",
       "  </thead>\n",
       "  <tbody>\n",
       "    <tr>\n",
       "      <th>17</th>\n",
       "      <td>Ivory Coast</td>\n",
       "      <td>0.110610</td>\n",
       "    </tr>\n",
       "    <tr>\n",
       "      <th>10</th>\n",
       "      <td>Senegal</td>\n",
       "      <td>0.097084</td>\n",
       "    </tr>\n",
       "    <tr>\n",
       "      <th>16</th>\n",
       "      <td>Nigeria</td>\n",
       "      <td>0.094100</td>\n",
       "    </tr>\n",
       "    <tr>\n",
       "      <th>14</th>\n",
       "      <td>Algeria</td>\n",
       "      <td>0.085822</td>\n",
       "    </tr>\n",
       "    <tr>\n",
       "      <th>11</th>\n",
       "      <td>Morocco</td>\n",
       "      <td>0.066801</td>\n",
       "    </tr>\n",
       "  </tbody>\n",
       "</table>\n",
       "</div>"
      ],
      "text/plain": [
       "           team  win proba\n",
       "17  Ivory Coast   0.110610\n",
       "10      Senegal   0.097084\n",
       "16      Nigeria   0.094100\n",
       "14      Algeria   0.085822\n",
       "11      Morocco   0.066801"
      ]
     },
     "execution_count": 32,
     "metadata": {},
     "output_type": "execute_result"
    }
   ],
   "source": [
    "from xgboost import XGBClassifier\n",
    "from sklearn.ensemble import AdaBoostClassifier\n",
    "from sklearn.metrics import accuracy_score\n",
    "\n",
    "train = train.loc[:, ~train.columns.str.contains('^Unnamed')]\n",
    "test = test.loc[:, ~test.columns.str.contains('^Unnamed')]\n",
    "\n",
    "model = XGBClassifier(learning_rate = 0.01,random_state=42)\n",
    "\n",
    "X_train = train.drop(['Team', 'won_this_year'], axis=1)\n",
    "y_train = train['won_this_year']\n",
    "\n",
    "X_test = test.drop(['Team'], axis=1)\n",
    "\n",
    "model.fit(X_train, y_train)\n",
    "\n",
    "y_probabilities = model.predict_proba(X_test)[:, 1]\n",
    "\n",
    "y_pred = model.predict(X_test)\n",
    "\n",
    "prediction = {'team':test['Team'],'win proba':y_probabilities}\n",
    "prediction_df = pd.DataFrame(prediction)\n",
    "prediction_df.sort_values(by =[\"win proba\"] ,ascending=False)[:5]"
   ]
  }
 ],
 "metadata": {
  "kernelspec": {
   "display_name": "Python 3 (ipykernel)",
   "language": "python",
   "name": "python3"
  },
  "language_info": {
   "codemirror_mode": {
    "name": "ipython",
    "version": 3
   },
   "file_extension": ".py",
   "mimetype": "text/x-python",
   "name": "python",
   "nbconvert_exporter": "python",
   "pygments_lexer": "ipython3",
   "version": "3.10.12"
  }
 },
 "nbformat": 4,
 "nbformat_minor": 5
}
